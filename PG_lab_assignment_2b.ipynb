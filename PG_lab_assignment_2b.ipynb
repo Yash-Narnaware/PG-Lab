{
  "nbformat": 4,
  "nbformat_minor": 0,
  "metadata": {
    "colab": {
      "provenance": [],
      "include_colab_link": true
    },
    "kernelspec": {
      "name": "python3",
      "display_name": "Python 3"
    },
    "language_info": {
      "name": "python"
    }
  },
  "cells": [
    {
      "cell_type": "markdown",
      "metadata": {
        "id": "view-in-github",
        "colab_type": "text"
      },
      "source": [
        "<a href=\"https://colab.research.google.com/github/Yash-Narnaware/PG-Lab/blob/main/PG_lab_assignment_2b.ipynb\" target=\"_parent\"><img src=\"https://colab.research.google.com/assets/colab-badge.svg\" alt=\"Open In Colab\"/></a>"
      ]
    },
    {
      "cell_type": "code",
      "source": [
        "import re"
      ],
      "metadata": {
        "id": "LV5CQHTMEVX4"
      },
      "execution_count": null,
      "outputs": []
    },
    {
      "cell_type": "markdown",
      "source": [
        "#IPv4 Header"
      ],
      "metadata": {
        "id": "60jFoULIvkNl"
      }
    },
    {
      "cell_type": "code",
      "source": [
        "#give path to the .txt in which IP header hex code is stored\n",
        "file_path = '/content/test.txt'\n",
        "\n",
        "with open(file_path, 'r') as file:\n",
        "    ipv4_hex = file.read()\n",
        "\n",
        "ipv4_hex = ipv4_hex.lower()\n",
        "\n",
        "# Regular expression to match only digits (0-9) and letters (a-f)\n",
        "ipv4_hex = re.sub(r'[^0-9a-f]', '', ipv4_hex)\n",
        "print(\"IPv4 Hex code: \",ipv4_hex)"
      ],
      "metadata": {
        "colab": {
          "base_uri": "https://localhost:8080/",
          "height": 219
        },
        "id": "eId1bkZqBBrt",
        "outputId": "d45a1c9a-b6f0-4a70-edf2-fdc61a244517"
      },
      "execution_count": null,
      "outputs": [
        {
          "output_type": "error",
          "ename": "FileNotFoundError",
          "evalue": "[Errno 2] No such file or directory: '/content/test.txt'",
          "traceback": [
            "\u001b[0;31m---------------------------------------------------------------------------\u001b[0m",
            "\u001b[0;31mFileNotFoundError\u001b[0m                         Traceback (most recent call last)",
            "\u001b[0;32m<ipython-input-2-1bf427c166bf>\u001b[0m in \u001b[0;36m<cell line: 4>\u001b[0;34m()\u001b[0m\n\u001b[1;32m      2\u001b[0m \u001b[0mfile_path\u001b[0m \u001b[0;34m=\u001b[0m \u001b[0;34m'/content/test.txt'\u001b[0m\u001b[0;34m\u001b[0m\u001b[0;34m\u001b[0m\u001b[0m\n\u001b[1;32m      3\u001b[0m \u001b[0;34m\u001b[0m\u001b[0m\n\u001b[0;32m----> 4\u001b[0;31m \u001b[0;32mwith\u001b[0m \u001b[0mopen\u001b[0m\u001b[0;34m(\u001b[0m\u001b[0mfile_path\u001b[0m\u001b[0;34m,\u001b[0m \u001b[0;34m'r'\u001b[0m\u001b[0;34m)\u001b[0m \u001b[0;32mas\u001b[0m \u001b[0mfile\u001b[0m\u001b[0;34m:\u001b[0m\u001b[0;34m\u001b[0m\u001b[0;34m\u001b[0m\u001b[0m\n\u001b[0m\u001b[1;32m      5\u001b[0m     \u001b[0mipv4_hex\u001b[0m \u001b[0;34m=\u001b[0m \u001b[0mfile\u001b[0m\u001b[0;34m.\u001b[0m\u001b[0mread\u001b[0m\u001b[0;34m(\u001b[0m\u001b[0;34m)\u001b[0m\u001b[0;34m\u001b[0m\u001b[0;34m\u001b[0m\u001b[0m\n\u001b[1;32m      6\u001b[0m \u001b[0;34m\u001b[0m\u001b[0m\n",
            "\u001b[0;31mFileNotFoundError\u001b[0m: [Errno 2] No such file or directory: '/content/test.txt'"
          ]
        }
      ]
    },
    {
      "cell_type": "code",
      "source": [
        "hex_to_binary = {\"0\":\"0000\",\"1\":\"0001\",\"2\":\"0010\",\"3\":\"0011\",\"4\":\"0100\",\"5\":\"0101\",\"6\":\"0110\",\"7\":\"0111\",\"8\":\"1000\",\"9\":\"1001\",\"a\":\"1010\",\"b\":\"1011\",\"c\":\"1100\",\"d\":\"1101\",\"e\":\"1110\",\"f\":\"1111\"}"
      ],
      "metadata": {
        "id": "aPvHQpIa3p4y"
      },
      "execution_count": null,
      "outputs": []
    },
    {
      "cell_type": "code",
      "source": [
        "res = \"\"\n",
        "for i in ipv4_hex:\n",
        "  res += hex_to_binary[i]\n",
        "\n",
        "print(res)"
      ],
      "metadata": {
        "colab": {
          "base_uri": "https://localhost:8080/"
        },
        "id": "rOiaxYGu5HDq",
        "outputId": "8d962b19-a03f-443f-9528-3d568115b6f9"
      },
      "execution_count": null,
      "outputs": [
        {
          "output_type": "stream",
          "name": "stdout",
          "text": [
            "0100010100000000000000000010100000100001000101100100000000000000100000000000011001110000011000111010110000010101000011010001010110101100000111100000010000001110\n"
          ]
        }
      ]
    },
    {
      "cell_type": "code",
      "source": [
        "version = res[0:4]\n",
        "header_lenght = res[4:8]\n",
        "total_packet_lenght = res[16:32]\n",
        "transport_layer_protocol = res[72:80]\n",
        "header_checksum = res[80:96]\n",
        "source_ip = res[96:128]\n",
        "destination_ip = res[128:160]"
      ],
      "metadata": {
        "id": "SyWhjRI06v5p"
      },
      "execution_count": null,
      "outputs": []
    },
    {
      "cell_type": "code",
      "source": [
        "version_dec = int(version,2)\n",
        "header_lenght_dec = int(header_lenght,2)\n",
        "total_packet_lenght_dec = int(total_packet_lenght,2)\n",
        "transport_layer_protocol_dec = int(transport_layer_protocol,2)\n",
        "header_checksum_dec = int(header_checksum,2)\n",
        "source_ip_dec = str(int(source_ip[:8],2)) + \".\" + str(int(source_ip[8:16],2)) + \".\" + str(int(source_ip[16:24],2)) + \".\" + str(int(source_ip[24:],2))\n",
        "destination_ip_dec = str(int(destination_ip[:8],2)) + \".\" + str(int(destination_ip[8:16],2)) + \".\" + str(int(destination_ip[16:24],2)) + \".\" + str(int(destination_ip[24:],2))"
      ],
      "metadata": {
        "id": "4w60fVf7_Qb9"
      },
      "execution_count": null,
      "outputs": []
    },
    {
      "cell_type": "code",
      "source": [
        "print(\"IP version\",version_dec, \"is used\")\n",
        "print(\"Header lenght is: \",header_lenght_dec*4,\"bytes\",\"(\" + str(header_lenght_dec) +\")\")\n",
        "print(\"Total packet lenght is: \",total_packet_lenght_dec)\n",
        "\n",
        "if transport_layer_protocol_dec == 6:\n",
        "  print(\"Transport layer_protocol is TCP (6)\")\n",
        "elif transport_layer_protocol_dec == 17:\n",
        "  print(\"Transport layer_protocol is UDP (17)\")\n",
        "else:\n",
        "  print(\"Transport layer_protocol is \" + str(transport_layer_protocol_dec))\n",
        "\n",
        "# print(\"transport_layer_protocol_dec\",transport_layer_protocol_dec)\n",
        "print(\"Value of 16 bit IP checksum is\",header_checksum_dec)\n",
        "print(\"Source IP is: \",source_ip_dec)\n",
        "print(\"Destination IP is:\",destination_ip_dec)"
      ],
      "metadata": {
        "colab": {
          "base_uri": "https://localhost:8080/"
        },
        "id": "mKfx8xsC_XWH",
        "outputId": "1d877c39-256f-4084-d32c-4ee9ad81a1cf"
      },
      "execution_count": null,
      "outputs": [
        {
          "output_type": "stream",
          "name": "stdout",
          "text": [
            "IP version 4 is used\n",
            "Header lenght is:  20 bytes (5)\n",
            "Total packet lenght is:  40\n",
            "Transport layer_protocol is TCP (6)\n",
            "Value of 16 bit IP checksum is 28771\n",
            "Source IP is:  172.21.13.21\n",
            "Destination IP is: 172.30.4.14\n"
          ]
        }
      ]
    },
    {
      "cell_type": "markdown",
      "source": [
        "#TCP Header"
      ],
      "metadata": {
        "id": "xSMqvSlgx8_N"
      }
    },
    {
      "cell_type": "code",
      "source": [
        "#give path to the .txt in which TCP header hex code is stored\n",
        "file_path = '/content/tcp.txt'\n",
        "\n",
        "with open(file_path, 'r') as file:\n",
        "    tcp_hex = file.read()\n",
        "\n",
        "tcp_hex = tcp_hex.lower()\n",
        "\n",
        "# Regular expression to match only digits (0-9) and letters (a-f)\n",
        "tcp_hex = re.sub(r'[^0-9a-f]', '', tcp_hex)\n",
        "print(\"TCP Hex code: \",tcp_hex)"
      ],
      "metadata": {
        "colab": {
          "base_uri": "https://localhost:8080/"
        },
        "id": "MJ3XbUotEdtf",
        "outputId": "fba5309d-89d9-473c-8dba-d22b55140efc"
      },
      "execution_count": null,
      "outputs": [
        {
          "output_type": "stream",
          "name": "stdout",
          "text": [
            "TCP Hex code:  d5a20035f21876922d69247150110102b51d0000\n"
          ]
        }
      ]
    },
    {
      "cell_type": "code",
      "source": [
        "hex_to_binary = {\"0\":\"0000\",\"1\":\"0001\",\"2\":\"0010\",\"3\":\"0011\",\"4\":\"0100\",\"5\":\"0101\",\"6\":\"0110\",\"7\":\"0111\",\"8\":\"1000\",\"9\":\"1001\",\"a\":\"1010\",\"b\":\"1011\",\"c\":\"1100\",\"d\":\"1101\",\"e\":\"1110\",\"f\":\"1111\"}"
      ],
      "metadata": {
        "id": "N1g1d6h7avzs"
      },
      "execution_count": null,
      "outputs": []
    },
    {
      "cell_type": "code",
      "source": [
        "res2 = \"\"\n",
        "for i in tcp_hex:\n",
        "  res2 += hex_to_binary[i]\n",
        "\n",
        "print(res2)"
      ],
      "metadata": {
        "colab": {
          "base_uri": "https://localhost:8080/"
        },
        "id": "SjccRALpyv6w",
        "outputId": "58745a3d-9036-4517-ba6f-7508ff2d7107"
      },
      "execution_count": null,
      "outputs": [
        {
          "output_type": "stream",
          "name": "stdout",
          "text": [
            "1101010110100010000000000011010111110010000110000111011010010010001011010110100100100100011100010101000000010001000000010000001010110101000111010000000000000000\n"
          ]
        }
      ]
    },
    {
      "cell_type": "code",
      "source": [
        "source_port_number = res2[0:16]\n",
        "destination_port_number = res2[16:32]\n",
        "sequence_number = res2[32:64]\n",
        "acknowledgement_number = res2[64:96]\n",
        "header_lenght = res2[96:100]\n",
        "tcp_checksum = res2[128:144]\n",
        "tcp_header_flag_urg = res2[106]\n",
        "tcp_header_flag_ack = res2[107]\n",
        "tcp_header_flag_psh = res2[108]\n",
        "tcp_header_flag_rst = res2[109]\n",
        "tcp_header_flag_syn = res2[110]\n",
        "tcp_header_flag_fin = res2[111]\n",
        "# print(tcp_header_flag_urg,tcp_header_flag_ack,tcp_header_flag_psh,tcp_header_flag_rst,tcp_header_flag_syn,tcp_header_flag_fin)"
      ],
      "metadata": {
        "id": "QQONOPOW2hAO"
      },
      "execution_count": null,
      "outputs": []
    },
    {
      "cell_type": "code",
      "source": [
        "source_port_number_dec = int(source_port_number,2)\n",
        "destination_port_number_dec = int(destination_port_number,2)\n",
        "sequence_number_dec = int(sequence_number,2)\n",
        "acknowledgement_number_dec = int(acknowledgement_number,2)\n",
        "header_lenght_dec = int(header_lenght,2)\n",
        "tcp_checksum_dec = int(tcp_checksum,2)\n"
      ],
      "metadata": {
        "id": "hJSCI5gj4caw"
      },
      "execution_count": null,
      "outputs": []
    },
    {
      "cell_type": "code",
      "source": [
        "print(\"Source port number is:\",source_port_number_dec)\n",
        "print(\"Destination port number is:\",destination_port_number_dec)\n",
        "print(\"Sequence_number is:\",sequence_number_dec)\n",
        "print(\"Acknowledgement number is:\",acknowledgement_number_dec)\n",
        "print(\"Header_lenght of TCP packet is: \" + str(header_lenght_dec*4) + \" bytes \" +\"(\" + str(header_lenght_dec) + \")\")\n",
        "print(\"Value of 16 bit TCP checksum is:\",tcp_checksum_dec)\n",
        "if int(tcp_header_flag_urg):\n",
        "  print(\"URG flag is set\")\n",
        "else:\n",
        "  print(\"URG flag is not set\")\n",
        "if int(tcp_header_flag_ack):\n",
        "  print(\"ACK flag is set\")\n",
        "else:\n",
        "  print(\"ACK flag is not set\")\n",
        "if int(tcp_header_flag_psh):\n",
        "  print(\"PSH flag is set\")\n",
        "else:\n",
        "  print(\"PSH flag is not set\")\n",
        "if int(tcp_header_flag_rst):\n",
        "  print(\"RST flag is set\")\n",
        "else:\n",
        "  print(\"RST flag is not set\")\n",
        "if int(tcp_header_flag_syn):\n",
        "  print(\"SYN flag is set\")\n",
        "else:\n",
        "  print(\"SYN flag is not set\")\n",
        "if int(tcp_header_flag_fin):\n",
        "  print(\"FIN flag is set\")\n",
        "else:\n",
        "  print(\"FIN flag is not set\")"
      ],
      "metadata": {
        "colab": {
          "base_uri": "https://localhost:8080/"
        },
        "id": "A7lZ52E55CG9",
        "outputId": "fbc3098a-f924-41d9-e1e1-425ab79ada9f"
      },
      "execution_count": null,
      "outputs": [
        {
          "output_type": "stream",
          "name": "stdout",
          "text": [
            "Source port number is: 54690\n",
            "Destination port number is: 53\n",
            "Sequence_number is: 4061689490\n",
            "Acknowledgement number is: 761865329\n",
            "Header_lenght of TCP packet is: 20 bytes (5)\n",
            "Value of 16 bit TCP checksum is: 46365\n",
            "URG flag is not set\n",
            "ACK flag is set\n",
            "PSH flag is not set\n",
            "RST flag is not set\n",
            "SYN flag is not set\n",
            "FIN flag is set\n"
          ]
        }
      ]
    }
  ]
}